{
 "cells": [
  {
   "cell_type": "code",
   "execution_count": 202,
   "metadata": {},
   "outputs": [],
   "source": [
    "import csv\n",
    "import pandas as pd\n",
    "import numpy as np"
   ]
  },
  {
   "cell_type": "code",
   "execution_count": 203,
   "metadata": {},
   "outputs": [
    {
     "name": "stdout",
     "output_type": "stream",
     "text": [
      "['Date', 'Open', 'High', 'Low', 'Close', 'Shares Traded', 'Turnover (Rs. Cr)']\n"
     ]
    }
   ],
   "source": [
    "with open('Nifty 50 data.csv','r') as csvfile:\n",
    "    reader = csv.DictReader(csvfile)\n",
    "    print(reader.fieldnames)         #Getting the Columns in dataset"
   ]
  },
  {
   "cell_type": "code",
   "execution_count": 204,
   "metadata": {},
   "outputs": [
    {
     "data": {
      "text/html": [
       "<div>\n",
       "<style scoped>\n",
       "    .dataframe tbody tr th:only-of-type {\n",
       "        vertical-align: middle;\n",
       "    }\n",
       "\n",
       "    .dataframe tbody tr th {\n",
       "        vertical-align: top;\n",
       "    }\n",
       "\n",
       "    .dataframe thead th {\n",
       "        text-align: right;\n",
       "    }\n",
       "</style>\n",
       "<table border=\"1\" class=\"dataframe\">\n",
       "  <thead>\n",
       "    <tr style=\"text-align: right;\">\n",
       "      <th></th>\n",
       "      <th>Date</th>\n",
       "      <th>Open</th>\n",
       "      <th>High</th>\n",
       "      <th>Low</th>\n",
       "      <th>Close</th>\n",
       "      <th>Shares Traded</th>\n",
       "      <th>Turnover (Rs. Cr)</th>\n",
       "    </tr>\n",
       "  </thead>\n",
       "  <tbody>\n",
       "    <tr>\n",
       "      <th>0</th>\n",
       "      <td>07-Jan-19</td>\n",
       "      <td>10804.85</td>\n",
       "      <td>10835.95</td>\n",
       "      <td>10750.15</td>\n",
       "      <td>10771.80</td>\n",
       "      <td>269371080</td>\n",
       "      <td>12731.29</td>\n",
       "    </tr>\n",
       "    <tr>\n",
       "      <th>1</th>\n",
       "      <td>08-Jan-19</td>\n",
       "      <td>10786.25</td>\n",
       "      <td>10818.45</td>\n",
       "      <td>10733.25</td>\n",
       "      <td>10802.15</td>\n",
       "      <td>277697672</td>\n",
       "      <td>13433.48</td>\n",
       "    </tr>\n",
       "    <tr>\n",
       "      <th>2</th>\n",
       "      <td>09-Jan-19</td>\n",
       "      <td>10862.40</td>\n",
       "      <td>10870.40</td>\n",
       "      <td>10749.40</td>\n",
       "      <td>10855.15</td>\n",
       "      <td>333010535</td>\n",
       "      <td>16213.30</td>\n",
       "    </tr>\n",
       "    <tr>\n",
       "      <th>3</th>\n",
       "      <td>10-Jan-19</td>\n",
       "      <td>10859.35</td>\n",
       "      <td>10859.35</td>\n",
       "      <td>10801.80</td>\n",
       "      <td>10821.60</td>\n",
       "      <td>254365477</td>\n",
       "      <td>12031.26</td>\n",
       "    </tr>\n",
       "    <tr>\n",
       "      <th>4</th>\n",
       "      <td>11-Jan-19</td>\n",
       "      <td>10834.75</td>\n",
       "      <td>10850.15</td>\n",
       "      <td>10739.40</td>\n",
       "      <td>10794.95</td>\n",
       "      <td>260792200</td>\n",
       "      <td>13084.60</td>\n",
       "    </tr>\n",
       "  </tbody>\n",
       "</table>\n",
       "</div>"
      ],
      "text/plain": [
       "        Date      Open      High       Low     Close  Shares Traded  \\\n",
       "0  07-Jan-19  10804.85  10835.95  10750.15  10771.80      269371080   \n",
       "1  08-Jan-19  10786.25  10818.45  10733.25  10802.15      277697672   \n",
       "2  09-Jan-19  10862.40  10870.40  10749.40  10855.15      333010535   \n",
       "3  10-Jan-19  10859.35  10859.35  10801.80  10821.60      254365477   \n",
       "4  11-Jan-19  10834.75  10850.15  10739.40  10794.95      260792200   \n",
       "\n",
       "   Turnover (Rs. Cr)  \n",
       "0           12731.29  \n",
       "1           13433.48  \n",
       "2           16213.30  \n",
       "3           12031.26  \n",
       "4           13084.60  "
      ]
     },
     "execution_count": 204,
     "metadata": {},
     "output_type": "execute_result"
    }
   ],
   "source": [
    "df = pd.read_csv('Nifty 50 data.csv')\n",
    "df.head()                           #retrieving first 5 rows"
   ]
  },
  {
   "cell_type": "code",
   "execution_count": 205,
   "metadata": {},
   "outputs": [
    {
     "name": "stdout",
     "output_type": "stream",
     "text": [
      "<class 'pandas.core.frame.DataFrame'>\n",
      "RangeIndex: 867 entries, 0 to 866\n",
      "Data columns (total 7 columns):\n",
      " #   Column             Non-Null Count  Dtype  \n",
      "---  ------             --------------  -----  \n",
      " 0   Date               867 non-null    object \n",
      " 1   Open               867 non-null    float64\n",
      " 2   High               867 non-null    float64\n",
      " 3   Low                867 non-null    float64\n",
      " 4   Close              867 non-null    float64\n",
      " 5   Shares Traded      867 non-null    int64  \n",
      " 6   Turnover (Rs. Cr)  867 non-null    float64\n",
      "dtypes: float64(5), int64(1), object(1)\n",
      "memory usage: 47.5+ KB\n"
     ]
    }
   ],
   "source": [
    "df.info()"
   ]
  },
  {
   "cell_type": "code",
   "execution_count": 206,
   "metadata": {},
   "outputs": [
    {
     "data": {
      "text/html": [
       "<div>\n",
       "<style scoped>\n",
       "    .dataframe tbody tr th:only-of-type {\n",
       "        vertical-align: middle;\n",
       "    }\n",
       "\n",
       "    .dataframe tbody tr th {\n",
       "        vertical-align: top;\n",
       "    }\n",
       "\n",
       "    .dataframe thead th {\n",
       "        text-align: right;\n",
       "    }\n",
       "</style>\n",
       "<table border=\"1\" class=\"dataframe\">\n",
       "  <thead>\n",
       "    <tr style=\"text-align: right;\">\n",
       "      <th></th>\n",
       "      <th>Date</th>\n",
       "      <th>Open</th>\n",
       "      <th>High</th>\n",
       "      <th>Low</th>\n",
       "      <th>Close</th>\n",
       "      <th>Shares Traded</th>\n",
       "      <th>Turnover (Rs. Cr)</th>\n",
       "      <th>newDate</th>\n",
       "    </tr>\n",
       "  </thead>\n",
       "  <tbody>\n",
       "    <tr>\n",
       "      <th>0</th>\n",
       "      <td>07-Jan-19</td>\n",
       "      <td>10804.85</td>\n",
       "      <td>10835.95</td>\n",
       "      <td>10750.15</td>\n",
       "      <td>10771.80</td>\n",
       "      <td>269371080</td>\n",
       "      <td>12731.29</td>\n",
       "      <td>2019-01-07</td>\n",
       "    </tr>\n",
       "    <tr>\n",
       "      <th>1</th>\n",
       "      <td>08-Jan-19</td>\n",
       "      <td>10786.25</td>\n",
       "      <td>10818.45</td>\n",
       "      <td>10733.25</td>\n",
       "      <td>10802.15</td>\n",
       "      <td>277697672</td>\n",
       "      <td>13433.48</td>\n",
       "      <td>2019-01-08</td>\n",
       "    </tr>\n",
       "    <tr>\n",
       "      <th>2</th>\n",
       "      <td>09-Jan-19</td>\n",
       "      <td>10862.40</td>\n",
       "      <td>10870.40</td>\n",
       "      <td>10749.40</td>\n",
       "      <td>10855.15</td>\n",
       "      <td>333010535</td>\n",
       "      <td>16213.30</td>\n",
       "      <td>2019-01-09</td>\n",
       "    </tr>\n",
       "    <tr>\n",
       "      <th>3</th>\n",
       "      <td>10-Jan-19</td>\n",
       "      <td>10859.35</td>\n",
       "      <td>10859.35</td>\n",
       "      <td>10801.80</td>\n",
       "      <td>10821.60</td>\n",
       "      <td>254365477</td>\n",
       "      <td>12031.26</td>\n",
       "      <td>2019-01-10</td>\n",
       "    </tr>\n",
       "    <tr>\n",
       "      <th>4</th>\n",
       "      <td>11-Jan-19</td>\n",
       "      <td>10834.75</td>\n",
       "      <td>10850.15</td>\n",
       "      <td>10739.40</td>\n",
       "      <td>10794.95</td>\n",
       "      <td>260792200</td>\n",
       "      <td>13084.60</td>\n",
       "      <td>2019-01-11</td>\n",
       "    </tr>\n",
       "    <tr>\n",
       "      <th>...</th>\n",
       "      <td>...</td>\n",
       "      <td>...</td>\n",
       "      <td>...</td>\n",
       "      <td>...</td>\n",
       "      <td>...</td>\n",
       "      <td>...</td>\n",
       "      <td>...</td>\n",
       "      <td>...</td>\n",
       "    </tr>\n",
       "    <tr>\n",
       "      <th>862</th>\n",
       "      <td>27-Jul-22</td>\n",
       "      <td>16475.35</td>\n",
       "      <td>16653.45</td>\n",
       "      <td>16438.75</td>\n",
       "      <td>16641.80</td>\n",
       "      <td>185210970</td>\n",
       "      <td>17608.03</td>\n",
       "      <td>2022-07-27</td>\n",
       "    </tr>\n",
       "    <tr>\n",
       "      <th>863</th>\n",
       "      <td>28-Jul-22</td>\n",
       "      <td>16774.85</td>\n",
       "      <td>16947.65</td>\n",
       "      <td>16746.25</td>\n",
       "      <td>16929.60</td>\n",
       "      <td>376256315</td>\n",
       "      <td>26674.28</td>\n",
       "      <td>2022-07-28</td>\n",
       "    </tr>\n",
       "    <tr>\n",
       "      <th>864</th>\n",
       "      <td>29-Jul-22</td>\n",
       "      <td>17079.50</td>\n",
       "      <td>17172.80</td>\n",
       "      <td>17018.15</td>\n",
       "      <td>17158.25</td>\n",
       "      <td>436059722</td>\n",
       "      <td>28241.29</td>\n",
       "      <td>2022-07-29</td>\n",
       "    </tr>\n",
       "    <tr>\n",
       "      <th>865</th>\n",
       "      <td>01-Aug-22</td>\n",
       "      <td>17243.20</td>\n",
       "      <td>17356.25</td>\n",
       "      <td>17154.80</td>\n",
       "      <td>17340.05</td>\n",
       "      <td>381532671</td>\n",
       "      <td>23221.04</td>\n",
       "      <td>2022-08-01</td>\n",
       "    </tr>\n",
       "    <tr>\n",
       "      <th>866</th>\n",
       "      <td>02-Aug-22</td>\n",
       "      <td>17310.15</td>\n",
       "      <td>17390.15</td>\n",
       "      <td>17215.85</td>\n",
       "      <td>17345.45</td>\n",
       "      <td>333639093</td>\n",
       "      <td>22576.94</td>\n",
       "      <td>2022-08-02</td>\n",
       "    </tr>\n",
       "  </tbody>\n",
       "</table>\n",
       "<p>867 rows × 8 columns</p>\n",
       "</div>"
      ],
      "text/plain": [
       "          Date      Open      High       Low     Close  Shares Traded  \\\n",
       "0    07-Jan-19  10804.85  10835.95  10750.15  10771.80      269371080   \n",
       "1    08-Jan-19  10786.25  10818.45  10733.25  10802.15      277697672   \n",
       "2    09-Jan-19  10862.40  10870.40  10749.40  10855.15      333010535   \n",
       "3    10-Jan-19  10859.35  10859.35  10801.80  10821.60      254365477   \n",
       "4    11-Jan-19  10834.75  10850.15  10739.40  10794.95      260792200   \n",
       "..         ...       ...       ...       ...       ...            ...   \n",
       "862  27-Jul-22  16475.35  16653.45  16438.75  16641.80      185210970   \n",
       "863  28-Jul-22  16774.85  16947.65  16746.25  16929.60      376256315   \n",
       "864  29-Jul-22  17079.50  17172.80  17018.15  17158.25      436059722   \n",
       "865  01-Aug-22  17243.20  17356.25  17154.80  17340.05      381532671   \n",
       "866  02-Aug-22  17310.15  17390.15  17215.85  17345.45      333639093   \n",
       "\n",
       "     Turnover (Rs. Cr)    newDate  \n",
       "0             12731.29 2019-01-07  \n",
       "1             13433.48 2019-01-08  \n",
       "2             16213.30 2019-01-09  \n",
       "3             12031.26 2019-01-10  \n",
       "4             13084.60 2019-01-11  \n",
       "..                 ...        ...  \n",
       "862           17608.03 2022-07-27  \n",
       "863           26674.28 2022-07-28  \n",
       "864           28241.29 2022-07-29  \n",
       "865           23221.04 2022-08-01  \n",
       "866           22576.94 2022-08-02  \n",
       "\n",
       "[867 rows x 8 columns]"
      ]
     },
     "execution_count": 206,
     "metadata": {},
     "output_type": "execute_result"
    }
   ],
   "source": [
    "# Making newDate column by converting datestring for further comparision of dates\n",
    "\n",
    "from datetime import datetime\n",
    "newDate= []\n",
    "for row in df.index :\n",
    "    newDate.append(datetime.strptime(df['Date'].loc[row], \"%d-%b-%y\"))\n",
    "df['newDate'] = newDate\n",
    "df"
   ]
  },
  {
   "cell_type": "code",
   "execution_count": 207,
   "metadata": {},
   "outputs": [
    {
     "data": {
      "text/html": [
       "<div>\n",
       "<style scoped>\n",
       "    .dataframe tbody tr th:only-of-type {\n",
       "        vertical-align: middle;\n",
       "    }\n",
       "\n",
       "    .dataframe tbody tr th {\n",
       "        vertical-align: top;\n",
       "    }\n",
       "\n",
       "    .dataframe thead th {\n",
       "        text-align: right;\n",
       "    }\n",
       "</style>\n",
       "<table border=\"1\" class=\"dataframe\">\n",
       "  <thead>\n",
       "    <tr style=\"text-align: right;\">\n",
       "      <th></th>\n",
       "      <th>Date</th>\n",
       "      <th>Open</th>\n",
       "      <th>High</th>\n",
       "      <th>Low</th>\n",
       "      <th>Close</th>\n",
       "      <th>Shares Traded</th>\n",
       "      <th>Turnover (Rs. Cr)</th>\n",
       "      <th>newDate</th>\n",
       "      <th>Period</th>\n",
       "    </tr>\n",
       "  </thead>\n",
       "  <tbody>\n",
       "    <tr>\n",
       "      <th>0</th>\n",
       "      <td>07-Jan-19</td>\n",
       "      <td>10804.85</td>\n",
       "      <td>10835.95</td>\n",
       "      <td>10750.15</td>\n",
       "      <td>10771.80</td>\n",
       "      <td>269371080</td>\n",
       "      <td>12731.29</td>\n",
       "      <td>2019-01-07</td>\n",
       "      <td>Pre_Covid</td>\n",
       "    </tr>\n",
       "    <tr>\n",
       "      <th>1</th>\n",
       "      <td>08-Jan-19</td>\n",
       "      <td>10786.25</td>\n",
       "      <td>10818.45</td>\n",
       "      <td>10733.25</td>\n",
       "      <td>10802.15</td>\n",
       "      <td>277697672</td>\n",
       "      <td>13433.48</td>\n",
       "      <td>2019-01-08</td>\n",
       "      <td>Pre_Covid</td>\n",
       "    </tr>\n",
       "    <tr>\n",
       "      <th>2</th>\n",
       "      <td>09-Jan-19</td>\n",
       "      <td>10862.40</td>\n",
       "      <td>10870.40</td>\n",
       "      <td>10749.40</td>\n",
       "      <td>10855.15</td>\n",
       "      <td>333010535</td>\n",
       "      <td>16213.30</td>\n",
       "      <td>2019-01-09</td>\n",
       "      <td>Pre_Covid</td>\n",
       "    </tr>\n",
       "    <tr>\n",
       "      <th>3</th>\n",
       "      <td>10-Jan-19</td>\n",
       "      <td>10859.35</td>\n",
       "      <td>10859.35</td>\n",
       "      <td>10801.80</td>\n",
       "      <td>10821.60</td>\n",
       "      <td>254365477</td>\n",
       "      <td>12031.26</td>\n",
       "      <td>2019-01-10</td>\n",
       "      <td>Pre_Covid</td>\n",
       "    </tr>\n",
       "    <tr>\n",
       "      <th>4</th>\n",
       "      <td>11-Jan-19</td>\n",
       "      <td>10834.75</td>\n",
       "      <td>10850.15</td>\n",
       "      <td>10739.40</td>\n",
       "      <td>10794.95</td>\n",
       "      <td>260792200</td>\n",
       "      <td>13084.60</td>\n",
       "      <td>2019-01-11</td>\n",
       "      <td>Pre_Covid</td>\n",
       "    </tr>\n",
       "    <tr>\n",
       "      <th>...</th>\n",
       "      <td>...</td>\n",
       "      <td>...</td>\n",
       "      <td>...</td>\n",
       "      <td>...</td>\n",
       "      <td>...</td>\n",
       "      <td>...</td>\n",
       "      <td>...</td>\n",
       "      <td>...</td>\n",
       "      <td>...</td>\n",
       "    </tr>\n",
       "    <tr>\n",
       "      <th>862</th>\n",
       "      <td>27-Jul-22</td>\n",
       "      <td>16475.35</td>\n",
       "      <td>16653.45</td>\n",
       "      <td>16438.75</td>\n",
       "      <td>16641.80</td>\n",
       "      <td>185210970</td>\n",
       "      <td>17608.03</td>\n",
       "      <td>2022-07-27</td>\n",
       "      <td>Post_Covid</td>\n",
       "    </tr>\n",
       "    <tr>\n",
       "      <th>863</th>\n",
       "      <td>28-Jul-22</td>\n",
       "      <td>16774.85</td>\n",
       "      <td>16947.65</td>\n",
       "      <td>16746.25</td>\n",
       "      <td>16929.60</td>\n",
       "      <td>376256315</td>\n",
       "      <td>26674.28</td>\n",
       "      <td>2022-07-28</td>\n",
       "      <td>Post_Covid</td>\n",
       "    </tr>\n",
       "    <tr>\n",
       "      <th>864</th>\n",
       "      <td>29-Jul-22</td>\n",
       "      <td>17079.50</td>\n",
       "      <td>17172.80</td>\n",
       "      <td>17018.15</td>\n",
       "      <td>17158.25</td>\n",
       "      <td>436059722</td>\n",
       "      <td>28241.29</td>\n",
       "      <td>2022-07-29</td>\n",
       "      <td>Post_Covid</td>\n",
       "    </tr>\n",
       "    <tr>\n",
       "      <th>865</th>\n",
       "      <td>01-Aug-22</td>\n",
       "      <td>17243.20</td>\n",
       "      <td>17356.25</td>\n",
       "      <td>17154.80</td>\n",
       "      <td>17340.05</td>\n",
       "      <td>381532671</td>\n",
       "      <td>23221.04</td>\n",
       "      <td>2022-08-01</td>\n",
       "      <td>Post_Covid</td>\n",
       "    </tr>\n",
       "    <tr>\n",
       "      <th>866</th>\n",
       "      <td>02-Aug-22</td>\n",
       "      <td>17310.15</td>\n",
       "      <td>17390.15</td>\n",
       "      <td>17215.85</td>\n",
       "      <td>17345.45</td>\n",
       "      <td>333639093</td>\n",
       "      <td>22576.94</td>\n",
       "      <td>2022-08-02</td>\n",
       "      <td>Post_Covid</td>\n",
       "    </tr>\n",
       "  </tbody>\n",
       "</table>\n",
       "<p>867 rows × 9 columns</p>\n",
       "</div>"
      ],
      "text/plain": [
       "          Date      Open      High       Low     Close  Shares Traded  \\\n",
       "0    07-Jan-19  10804.85  10835.95  10750.15  10771.80      269371080   \n",
       "1    08-Jan-19  10786.25  10818.45  10733.25  10802.15      277697672   \n",
       "2    09-Jan-19  10862.40  10870.40  10749.40  10855.15      333010535   \n",
       "3    10-Jan-19  10859.35  10859.35  10801.80  10821.60      254365477   \n",
       "4    11-Jan-19  10834.75  10850.15  10739.40  10794.95      260792200   \n",
       "..         ...       ...       ...       ...       ...            ...   \n",
       "862  27-Jul-22  16475.35  16653.45  16438.75  16641.80      185210970   \n",
       "863  28-Jul-22  16774.85  16947.65  16746.25  16929.60      376256315   \n",
       "864  29-Jul-22  17079.50  17172.80  17018.15  17158.25      436059722   \n",
       "865  01-Aug-22  17243.20  17356.25  17154.80  17340.05      381532671   \n",
       "866  02-Aug-22  17310.15  17390.15  17215.85  17345.45      333639093   \n",
       "\n",
       "     Turnover (Rs. Cr)    newDate      Period  \n",
       "0             12731.29 2019-01-07   Pre_Covid  \n",
       "1             13433.48 2019-01-08   Pre_Covid  \n",
       "2             16213.30 2019-01-09   Pre_Covid  \n",
       "3             12031.26 2019-01-10   Pre_Covid  \n",
       "4             13084.60 2019-01-11   Pre_Covid  \n",
       "..                 ...        ...         ...  \n",
       "862           17608.03 2022-07-27  Post_Covid  \n",
       "863           26674.28 2022-07-28  Post_Covid  \n",
       "864           28241.29 2022-07-29  Post_Covid  \n",
       "865           23221.04 2022-08-01  Post_Covid  \n",
       "866           22576.94 2022-08-02  Post_Covid  \n",
       "\n",
       "[867 rows x 9 columns]"
      ]
     },
     "execution_count": 207,
     "metadata": {},
     "output_type": "execute_result"
    }
   ],
   "source": [
    "# Assigning Period (Pre_Covid, Covid, Post_Covid) based on the newDate stamp\n",
    "\n",
    "def period(x) :\n",
    "    d1 = datetime(2019, 1, 7)\n",
    "    d2 = datetime(2020, 1, 31)\n",
    "    d3 = datetime(2021, 4, 30)\n",
    "    if x >= d1 and x <= d2 :\n",
    "        return \"Pre_Covid\"\n",
    "    if x > d2 and x <= d3 :\n",
    "        return \"Covid\"\n",
    "    if x > d3:\n",
    "        return \"Post_Covid\"\n",
    "    else :\n",
    "        return \"\"\n",
    "Period = []\n",
    "for row in df.index : \n",
    "    Period.append(period(df['newDate'].loc[row]))\n",
    "df['Period'] = Period\n",
    "df"
   ]
  },
  {
   "cell_type": "markdown",
   "metadata": {},
   "source": [
    "# Daily Return% = (Closing - Prev_Closing)*100 / Prev_Closing"
   ]
  },
  {
   "cell_type": "code",
   "execution_count": 208,
   "metadata": {},
   "outputs": [
    {
     "name": "stderr",
     "output_type": "stream",
     "text": [
      "C:\\Users\\harsh\\anaconda3\\lib\\site-packages\\pandas\\core\\indexing.py:670: SettingWithCopyWarning: \n",
      "A value is trying to be set on a copy of a slice from a DataFrame\n",
      "\n",
      "See the caveats in the documentation: https://pandas.pydata.org/pandas-docs/stable/user_guide/indexing.html#returning-a-view-versus-a-copy\n",
      "  iloc._setitem_with_indexer(indexer, value)\n"
     ]
    },
    {
     "data": {
      "text/html": [
       "<div>\n",
       "<style scoped>\n",
       "    .dataframe tbody tr th:only-of-type {\n",
       "        vertical-align: middle;\n",
       "    }\n",
       "\n",
       "    .dataframe tbody tr th {\n",
       "        vertical-align: top;\n",
       "    }\n",
       "\n",
       "    .dataframe thead th {\n",
       "        text-align: right;\n",
       "    }\n",
       "</style>\n",
       "<table border=\"1\" class=\"dataframe\">\n",
       "  <thead>\n",
       "    <tr style=\"text-align: right;\">\n",
       "      <th></th>\n",
       "      <th>Date</th>\n",
       "      <th>Open</th>\n",
       "      <th>High</th>\n",
       "      <th>Low</th>\n",
       "      <th>Close</th>\n",
       "      <th>Shares Traded</th>\n",
       "      <th>Turnover (Rs. Cr)</th>\n",
       "      <th>newDate</th>\n",
       "      <th>Period</th>\n",
       "      <th>DailyReturn%</th>\n",
       "    </tr>\n",
       "  </thead>\n",
       "  <tbody>\n",
       "    <tr>\n",
       "      <th>0</th>\n",
       "      <td>07-Jan-19</td>\n",
       "      <td>10804.85</td>\n",
       "      <td>10835.95</td>\n",
       "      <td>10750.15</td>\n",
       "      <td>10771.80</td>\n",
       "      <td>269371080</td>\n",
       "      <td>12731.29</td>\n",
       "      <td>2019-01-07</td>\n",
       "      <td>Pre_Covid</td>\n",
       "      <td>1.372106</td>\n",
       "    </tr>\n",
       "    <tr>\n",
       "      <th>1</th>\n",
       "      <td>08-Jan-19</td>\n",
       "      <td>10786.25</td>\n",
       "      <td>10818.45</td>\n",
       "      <td>10733.25</td>\n",
       "      <td>10802.15</td>\n",
       "      <td>277697672</td>\n",
       "      <td>13433.48</td>\n",
       "      <td>2019-01-08</td>\n",
       "      <td>Pre_Covid</td>\n",
       "      <td>0.281754</td>\n",
       "    </tr>\n",
       "    <tr>\n",
       "      <th>2</th>\n",
       "      <td>09-Jan-19</td>\n",
       "      <td>10862.40</td>\n",
       "      <td>10870.40</td>\n",
       "      <td>10749.40</td>\n",
       "      <td>10855.15</td>\n",
       "      <td>333010535</td>\n",
       "      <td>16213.30</td>\n",
       "      <td>2019-01-09</td>\n",
       "      <td>Pre_Covid</td>\n",
       "      <td>0.490643</td>\n",
       "    </tr>\n",
       "    <tr>\n",
       "      <th>3</th>\n",
       "      <td>10-Jan-19</td>\n",
       "      <td>10859.35</td>\n",
       "      <td>10859.35</td>\n",
       "      <td>10801.80</td>\n",
       "      <td>10821.60</td>\n",
       "      <td>254365477</td>\n",
       "      <td>12031.26</td>\n",
       "      <td>2019-01-10</td>\n",
       "      <td>Pre_Covid</td>\n",
       "      <td>-0.309070</td>\n",
       "    </tr>\n",
       "    <tr>\n",
       "      <th>4</th>\n",
       "      <td>11-Jan-19</td>\n",
       "      <td>10834.75</td>\n",
       "      <td>10850.15</td>\n",
       "      <td>10739.40</td>\n",
       "      <td>10794.95</td>\n",
       "      <td>260792200</td>\n",
       "      <td>13084.60</td>\n",
       "      <td>2019-01-11</td>\n",
       "      <td>Pre_Covid</td>\n",
       "      <td>-0.246267</td>\n",
       "    </tr>\n",
       "    <tr>\n",
       "      <th>...</th>\n",
       "      <td>...</td>\n",
       "      <td>...</td>\n",
       "      <td>...</td>\n",
       "      <td>...</td>\n",
       "      <td>...</td>\n",
       "      <td>...</td>\n",
       "      <td>...</td>\n",
       "      <td>...</td>\n",
       "      <td>...</td>\n",
       "      <td>...</td>\n",
       "    </tr>\n",
       "    <tr>\n",
       "      <th>862</th>\n",
       "      <td>27-Jul-22</td>\n",
       "      <td>16475.35</td>\n",
       "      <td>16653.45</td>\n",
       "      <td>16438.75</td>\n",
       "      <td>16641.80</td>\n",
       "      <td>185210970</td>\n",
       "      <td>17608.03</td>\n",
       "      <td>2022-07-27</td>\n",
       "      <td>Post_Covid</td>\n",
       "      <td>0.958211</td>\n",
       "    </tr>\n",
       "    <tr>\n",
       "      <th>863</th>\n",
       "      <td>28-Jul-22</td>\n",
       "      <td>16774.85</td>\n",
       "      <td>16947.65</td>\n",
       "      <td>16746.25</td>\n",
       "      <td>16929.60</td>\n",
       "      <td>376256315</td>\n",
       "      <td>26674.28</td>\n",
       "      <td>2022-07-28</td>\n",
       "      <td>Post_Covid</td>\n",
       "      <td>1.729380</td>\n",
       "    </tr>\n",
       "    <tr>\n",
       "      <th>864</th>\n",
       "      <td>29-Jul-22</td>\n",
       "      <td>17079.50</td>\n",
       "      <td>17172.80</td>\n",
       "      <td>17018.15</td>\n",
       "      <td>17158.25</td>\n",
       "      <td>436059722</td>\n",
       "      <td>28241.29</td>\n",
       "      <td>2022-07-29</td>\n",
       "      <td>Post_Covid</td>\n",
       "      <td>1.350593</td>\n",
       "    </tr>\n",
       "    <tr>\n",
       "      <th>865</th>\n",
       "      <td>01-Aug-22</td>\n",
       "      <td>17243.20</td>\n",
       "      <td>17356.25</td>\n",
       "      <td>17154.80</td>\n",
       "      <td>17340.05</td>\n",
       "      <td>381532671</td>\n",
       "      <td>23221.04</td>\n",
       "      <td>2022-08-01</td>\n",
       "      <td>Post_Covid</td>\n",
       "      <td>1.059549</td>\n",
       "    </tr>\n",
       "    <tr>\n",
       "      <th>866</th>\n",
       "      <td>02-Aug-22</td>\n",
       "      <td>17310.15</td>\n",
       "      <td>17390.15</td>\n",
       "      <td>17215.85</td>\n",
       "      <td>17345.45</td>\n",
       "      <td>333639093</td>\n",
       "      <td>22576.94</td>\n",
       "      <td>2022-08-02</td>\n",
       "      <td>Post_Covid</td>\n",
       "      <td>0.031142</td>\n",
       "    </tr>\n",
       "  </tbody>\n",
       "</table>\n",
       "<p>867 rows × 10 columns</p>\n",
       "</div>"
      ],
      "text/plain": [
       "          Date      Open      High       Low     Close  Shares Traded  \\\n",
       "0    07-Jan-19  10804.85  10835.95  10750.15  10771.80      269371080   \n",
       "1    08-Jan-19  10786.25  10818.45  10733.25  10802.15      277697672   \n",
       "2    09-Jan-19  10862.40  10870.40  10749.40  10855.15      333010535   \n",
       "3    10-Jan-19  10859.35  10859.35  10801.80  10821.60      254365477   \n",
       "4    11-Jan-19  10834.75  10850.15  10739.40  10794.95      260792200   \n",
       "..         ...       ...       ...       ...       ...            ...   \n",
       "862  27-Jul-22  16475.35  16653.45  16438.75  16641.80      185210970   \n",
       "863  28-Jul-22  16774.85  16947.65  16746.25  16929.60      376256315   \n",
       "864  29-Jul-22  17079.50  17172.80  17018.15  17158.25      436059722   \n",
       "865  01-Aug-22  17243.20  17356.25  17154.80  17340.05      381532671   \n",
       "866  02-Aug-22  17310.15  17390.15  17215.85  17345.45      333639093   \n",
       "\n",
       "     Turnover (Rs. Cr)    newDate      Period  DailyReturn%  \n",
       "0             12731.29 2019-01-07   Pre_Covid      1.372106  \n",
       "1             13433.48 2019-01-08   Pre_Covid      0.281754  \n",
       "2             16213.30 2019-01-09   Pre_Covid      0.490643  \n",
       "3             12031.26 2019-01-10   Pre_Covid     -0.309070  \n",
       "4             13084.60 2019-01-11   Pre_Covid     -0.246267  \n",
       "..                 ...        ...         ...           ...  \n",
       "862           17608.03 2022-07-27  Post_Covid      0.958211  \n",
       "863           26674.28 2022-07-28  Post_Covid      1.729380  \n",
       "864           28241.29 2022-07-29  Post_Covid      1.350593  \n",
       "865           23221.04 2022-08-01  Post_Covid      1.059549  \n",
       "866           22576.94 2022-08-02  Post_Covid      0.031142  \n",
       "\n",
       "[867 rows x 10 columns]"
      ]
     },
     "execution_count": 208,
     "metadata": {},
     "output_type": "execute_result"
    }
   ],
   "source": [
    "# Calculating Daily Return % using prev day and current day closing\n",
    "\n",
    "def returnf(x,y):\n",
    "    return ((x-y)*100/y)\n",
    "for i in df.index :\n",
    "    if i == 0:\n",
    "        df['DailyReturn%'] = (df['Close'].loc[i] - 10626)*100/10626                  #last day closing of first index is 10626/-\n",
    "    else :\n",
    "        df['DailyReturn%'].loc[i] = returnf(df['Close'].loc[i],df['Close'].loc[i-1])\n",
    "df"
   ]
  },
  {
   "cell_type": "code",
   "execution_count": 216,
   "metadata": {},
   "outputs": [
    {
     "data": {
      "image/png": "[encoded data removed]",
      "text/plain": [
       "<Figure size 432x288 with 1 Axes>"
      ]
     },
     "metadata": {
      "needs_background": "light"
     },
     "output_type": "display_data"
    }
   ],
   "source": [
    "import seaborn as sns\n",
    "sns.boxplot(data = df,x='Period',y='DailyReturn%',width =0.6,fliersize=4,whis=4.5);"
   ]
  },
  {
   "cell_type": "markdown",
   "metadata": {},
   "source": [
    "# Liquidity  = log10 ( Closing Price * Shares Traded / (High - Low))"
   ]
  },
  {
   "cell_type": "code",
   "execution_count": 217,
   "metadata": {},
   "outputs": [
    {
     "data": {
      "text/html": [
       "<div>\n",
       "<style scoped>\n",
       "    .dataframe tbody tr th:only-of-type {\n",
       "        vertical-align: middle;\n",
       "    }\n",
       "\n",
       "    .dataframe tbody tr th {\n",
       "        vertical-align: top;\n",
       "    }\n",
       "\n",
       "    .dataframe thead th {\n",
       "        text-align: right;\n",
       "    }\n",
       "</style>\n",
       "<table border=\"1\" class=\"dataframe\">\n",
       "  <thead>\n",
       "    <tr style=\"text-align: right;\">\n",
       "      <th></th>\n",
       "      <th>Date</th>\n",
       "      <th>Open</th>\n",
       "      <th>High</th>\n",
       "      <th>Low</th>\n",
       "      <th>Close</th>\n",
       "      <th>Shares Traded</th>\n",
       "      <th>Turnover (Rs. Cr)</th>\n",
       "      <th>newDate</th>\n",
       "      <th>Period</th>\n",
       "      <th>DailyReturn%</th>\n",
       "      <th>Liquidity</th>\n",
       "    </tr>\n",
       "  </thead>\n",
       "  <tbody>\n",
       "    <tr>\n",
       "      <th>0</th>\n",
       "      <td>07-Jan-19</td>\n",
       "      <td>10804.85</td>\n",
       "      <td>10835.95</td>\n",
       "      <td>10750.15</td>\n",
       "      <td>10771.80</td>\n",
       "      <td>269371080</td>\n",
       "      <td>12731.29</td>\n",
       "      <td>2019-01-07</td>\n",
       "      <td>Pre_Covid</td>\n",
       "      <td>1.372106</td>\n",
       "      <td>10.529152</td>\n",
       "    </tr>\n",
       "    <tr>\n",
       "      <th>1</th>\n",
       "      <td>08-Jan-19</td>\n",
       "      <td>10786.25</td>\n",
       "      <td>10818.45</td>\n",
       "      <td>10733.25</td>\n",
       "      <td>10802.15</td>\n",
       "      <td>277697672</td>\n",
       "      <td>13433.48</td>\n",
       "      <td>2019-01-08</td>\n",
       "      <td>Pre_Covid</td>\n",
       "      <td>0.281754</td>\n",
       "      <td>10.546643</td>\n",
       "    </tr>\n",
       "    <tr>\n",
       "      <th>2</th>\n",
       "      <td>09-Jan-19</td>\n",
       "      <td>10862.40</td>\n",
       "      <td>10870.40</td>\n",
       "      <td>10749.40</td>\n",
       "      <td>10855.15</td>\n",
       "      <td>333010535</td>\n",
       "      <td>16213.30</td>\n",
       "      <td>2019-01-09</td>\n",
       "      <td>Pre_Covid</td>\n",
       "      <td>0.490643</td>\n",
       "      <td>10.475308</td>\n",
       "    </tr>\n",
       "    <tr>\n",
       "      <th>3</th>\n",
       "      <td>10-Jan-19</td>\n",
       "      <td>10859.35</td>\n",
       "      <td>10859.35</td>\n",
       "      <td>10801.80</td>\n",
       "      <td>10821.60</td>\n",
       "      <td>254365477</td>\n",
       "      <td>12031.26</td>\n",
       "      <td>2019-01-10</td>\n",
       "      <td>Pre_Covid</td>\n",
       "      <td>-0.309070</td>\n",
       "      <td>10.679704</td>\n",
       "    </tr>\n",
       "    <tr>\n",
       "      <th>4</th>\n",
       "      <td>11-Jan-19</td>\n",
       "      <td>10834.75</td>\n",
       "      <td>10850.15</td>\n",
       "      <td>10739.40</td>\n",
       "      <td>10794.95</td>\n",
       "      <td>260792200</td>\n",
       "      <td>13084.60</td>\n",
       "      <td>2019-01-11</td>\n",
       "      <td>Pre_Covid</td>\n",
       "      <td>-0.246267</td>\n",
       "      <td>10.405171</td>\n",
       "    </tr>\n",
       "    <tr>\n",
       "      <th>...</th>\n",
       "      <td>...</td>\n",
       "      <td>...</td>\n",
       "      <td>...</td>\n",
       "      <td>...</td>\n",
       "      <td>...</td>\n",
       "      <td>...</td>\n",
       "      <td>...</td>\n",
       "      <td>...</td>\n",
       "      <td>...</td>\n",
       "      <td>...</td>\n",
       "      <td>...</td>\n",
       "    </tr>\n",
       "    <tr>\n",
       "      <th>862</th>\n",
       "      <td>27-Jul-22</td>\n",
       "      <td>16475.35</td>\n",
       "      <td>16653.45</td>\n",
       "      <td>16438.75</td>\n",
       "      <td>16641.80</td>\n",
       "      <td>185210970</td>\n",
       "      <td>17608.03</td>\n",
       "      <td>2022-07-27</td>\n",
       "      <td>Post_Covid</td>\n",
       "      <td>0.958211</td>\n",
       "      <td>10.157035</td>\n",
       "    </tr>\n",
       "    <tr>\n",
       "      <th>863</th>\n",
       "      <td>28-Jul-22</td>\n",
       "      <td>16774.85</td>\n",
       "      <td>16947.65</td>\n",
       "      <td>16746.25</td>\n",
       "      <td>16929.60</td>\n",
       "      <td>376256315</td>\n",
       "      <td>26674.28</td>\n",
       "      <td>2022-07-28</td>\n",
       "      <td>Post_Covid</td>\n",
       "      <td>1.729380</td>\n",
       "      <td>10.500071</td>\n",
       "    </tr>\n",
       "    <tr>\n",
       "      <th>864</th>\n",
       "      <td>29-Jul-22</td>\n",
       "      <td>17079.50</td>\n",
       "      <td>17172.80</td>\n",
       "      <td>17018.15</td>\n",
       "      <td>17158.25</td>\n",
       "      <td>436059722</td>\n",
       "      <td>28241.29</td>\n",
       "      <td>2022-07-29</td>\n",
       "      <td>Post_Covid</td>\n",
       "      <td>1.350593</td>\n",
       "      <td>10.684669</td>\n",
       "    </tr>\n",
       "    <tr>\n",
       "      <th>865</th>\n",
       "      <td>01-Aug-22</td>\n",
       "      <td>17243.20</td>\n",
       "      <td>17356.25</td>\n",
       "      <td>17154.80</td>\n",
       "      <td>17340.05</td>\n",
       "      <td>381532671</td>\n",
       "      <td>23221.04</td>\n",
       "      <td>2022-08-01</td>\n",
       "      <td>Post_Covid</td>\n",
       "      <td>1.059549</td>\n",
       "      <td>10.516415</td>\n",
       "    </tr>\n",
       "    <tr>\n",
       "      <th>866</th>\n",
       "      <td>02-Aug-22</td>\n",
       "      <td>17310.15</td>\n",
       "      <td>17390.15</td>\n",
       "      <td>17215.85</td>\n",
       "      <td>17345.45</td>\n",
       "      <td>333639093</td>\n",
       "      <td>22576.94</td>\n",
       "      <td>2022-08-02</td>\n",
       "      <td>Post_Covid</td>\n",
       "      <td>0.031142</td>\n",
       "      <td>10.521165</td>\n",
       "    </tr>\n",
       "  </tbody>\n",
       "</table>\n",
       "<p>867 rows × 11 columns</p>\n",
       "</div>"
      ],
      "text/plain": [
       "          Date      Open      High       Low     Close  Shares Traded  \\\n",
       "0    07-Jan-19  10804.85  10835.95  10750.15  10771.80      269371080   \n",
       "1    08-Jan-19  10786.25  10818.45  10733.25  10802.15      277697672   \n",
       "2    09-Jan-19  10862.40  10870.40  10749.40  10855.15      333010535   \n",
       "3    10-Jan-19  10859.35  10859.35  10801.80  10821.60      254365477   \n",
       "4    11-Jan-19  10834.75  10850.15  10739.40  10794.95      260792200   \n",
       "..         ...       ...       ...       ...       ...            ...   \n",
       "862  27-Jul-22  16475.35  16653.45  16438.75  16641.80      185210970   \n",
       "863  28-Jul-22  16774.85  16947.65  16746.25  16929.60      376256315   \n",
       "864  29-Jul-22  17079.50  17172.80  17018.15  17158.25      436059722   \n",
       "865  01-Aug-22  17243.20  17356.25  17154.80  17340.05      381532671   \n",
       "866  02-Aug-22  17310.15  17390.15  17215.85  17345.45      333639093   \n",
       "\n",
       "     Turnover (Rs. Cr)    newDate      Period  DailyReturn%  Liquidity  \n",
       "0             12731.29 2019-01-07   Pre_Covid      1.372106  10.529152  \n",
       "1             13433.48 2019-01-08   Pre_Covid      0.281754  10.546643  \n",
       "2             16213.30 2019-01-09   Pre_Covid      0.490643  10.475308  \n",
       "3             12031.26 2019-01-10   Pre_Covid     -0.309070  10.679704  \n",
       "4             13084.60 2019-01-11   Pre_Covid     -0.246267  10.405171  \n",
       "..                 ...        ...         ...           ...        ...  \n",
       "862           17608.03 2022-07-27  Post_Covid      0.958211  10.157035  \n",
       "863           26674.28 2022-07-28  Post_Covid      1.729380  10.500071  \n",
       "864           28241.29 2022-07-29  Post_Covid      1.350593  10.684669  \n",
       "865           23221.04 2022-08-01  Post_Covid      1.059549  10.516415  \n",
       "866           22576.94 2022-08-02  Post_Covid      0.031142  10.521165  \n",
       "\n",
       "[867 rows x 11 columns]"
      ]
     },
     "execution_count": 217,
     "metadata": {},
     "output_type": "execute_result"
    }
   ],
   "source": [
    "# Calculating Liquidity based on the above formula\n",
    "\n",
    "import math\n",
    "def Liquidityf(H,L,C,sT):\n",
    "    return math.log((C*sT/(H-L)),10)\n",
    "liquidity = []\n",
    "for row in df.index:\n",
    "    liquidity.append(Liquidityf(df['High'].loc[row],df['Low'].loc[row],df['Close'].loc[row],df['Shares Traded'].loc[row]))\n",
    "df['Liquidity'] = liquidity\n",
    "df"
   ]
  },
  {
   "cell_type": "code",
   "execution_count": 219,
   "metadata": {},
   "outputs": [
    {
     "data": {
      "image/png": "[encoded data removed]",
      "text/plain": [
       "<Figure size 432x288 with 1 Axes>"
      ]
     },
     "metadata": {
      "needs_background": "light"
     },
     "output_type": "display_data"
    }
   ],
   "source": [
    "sns.boxplot(data = df,x='Period',y='Liquidity',width =0.6,fliersize=4);"
   ]
  },
  {
   "cell_type": "markdown",
   "metadata": {},
   "source": [
    "# Volatility = Monthly Std Deviation of Daily Returns %"
   ]
  },
  {
   "cell_type": "code",
   "execution_count": 212,
   "metadata": {},
   "outputs": [
    {
     "data": {
      "text/html": [
       "<div>\n",
       "<style scoped>\n",
       "    .dataframe tbody tr th:only-of-type {\n",
       "        vertical-align: middle;\n",
       "    }\n",
       "\n",
       "    .dataframe tbody tr th {\n",
       "        vertical-align: top;\n",
       "    }\n",
       "\n",
       "    .dataframe thead th {\n",
       "        text-align: right;\n",
       "    }\n",
       "</style>\n",
       "<table border=\"1\" class=\"dataframe\">\n",
       "  <thead>\n",
       "    <tr style=\"text-align: right;\">\n",
       "      <th></th>\n",
       "      <th></th>\n",
       "      <th></th>\n",
       "      <th>DailyReturn%</th>\n",
       "    </tr>\n",
       "    <tr>\n",
       "      <th>Period</th>\n",
       "      <th>newDate</th>\n",
       "      <th>newDate</th>\n",
       "      <th></th>\n",
       "    </tr>\n",
       "  </thead>\n",
       "  <tbody>\n",
       "    <tr>\n",
       "      <th rowspan=\"15\" valign=\"top\">Covid</th>\n",
       "      <th rowspan=\"11\" valign=\"top\">2020</th>\n",
       "      <th>2</th>\n",
       "      <td>1.332447</td>\n",
       "    </tr>\n",
       "    <tr>\n",
       "      <th>3</th>\n",
       "      <td>4.961194</td>\n",
       "    </tr>\n",
       "    <tr>\n",
       "      <th>4</th>\n",
       "      <td>2.980058</td>\n",
       "    </tr>\n",
       "    <tr>\n",
       "      <th>5</th>\n",
       "      <td>2.079035</td>\n",
       "    </tr>\n",
       "    <tr>\n",
       "      <th>6</th>\n",
       "      <td>1.247734</td>\n",
       "    </tr>\n",
       "    <tr>\n",
       "      <th>7</th>\n",
       "      <td>0.947879</td>\n",
       "    </tr>\n",
       "    <tr>\n",
       "      <th>8</th>\n",
       "      <td>0.946091</td>\n",
       "    </tr>\n",
       "    <tr>\n",
       "      <th>9</th>\n",
       "      <td>1.192958</td>\n",
       "    </tr>\n",
       "    <tr>\n",
       "      <th>10</th>\n",
       "      <td>0.961570</td>\n",
       "    </tr>\n",
       "    <tr>\n",
       "      <th>11</th>\n",
       "      <td>0.862852</td>\n",
       "    </tr>\n",
       "    <tr>\n",
       "      <th>12</th>\n",
       "      <td>0.888759</td>\n",
       "    </tr>\n",
       "    <tr>\n",
       "      <th rowspan=\"4\" valign=\"top\">2021</th>\n",
       "      <th>1</th>\n",
       "      <td>1.024376</td>\n",
       "    </tr>\n",
       "    <tr>\n",
       "      <th>2</th>\n",
       "      <td>1.706106</td>\n",
       "    </tr>\n",
       "    <tr>\n",
       "      <th>3</th>\n",
       "      <td>1.254921</td>\n",
       "    </tr>\n",
       "    <tr>\n",
       "      <th>4</th>\n",
       "      <td>1.319929</td>\n",
       "    </tr>\n",
       "    <tr>\n",
       "      <th rowspan=\"15\" valign=\"top\">Post_Covid</th>\n",
       "      <th rowspan=\"7\" valign=\"top\">2021</th>\n",
       "      <th>6</th>\n",
       "      <td>1.433531</td>\n",
       "    </tr>\n",
       "    <tr>\n",
       "      <th>7</th>\n",
       "      <td>0.568059</td>\n",
       "    </tr>\n",
       "    <tr>\n",
       "      <th>8</th>\n",
       "      <td>0.572950</td>\n",
       "    </tr>\n",
       "    <tr>\n",
       "      <th>9</th>\n",
       "      <td>0.605500</td>\n",
       "    </tr>\n",
       "    <tr>\n",
       "      <th>10</th>\n",
       "      <td>0.823025</td>\n",
       "    </tr>\n",
       "    <tr>\n",
       "      <th>11</th>\n",
       "      <td>1.014279</td>\n",
       "    </tr>\n",
       "    <tr>\n",
       "      <th>12</th>\n",
       "      <td>1.067480</td>\n",
       "    </tr>\n",
       "    <tr>\n",
       "      <th rowspan=\"8\" valign=\"top\">2022</th>\n",
       "      <th>1</th>\n",
       "      <td>1.061848</td>\n",
       "    </tr>\n",
       "    <tr>\n",
       "      <th>2</th>\n",
       "      <td>1.780735</td>\n",
       "    </tr>\n",
       "    <tr>\n",
       "      <th>3</th>\n",
       "      <td>1.245771</td>\n",
       "    </tr>\n",
       "    <tr>\n",
       "      <th>4</th>\n",
       "      <td>1.198192</td>\n",
       "    </tr>\n",
       "    <tr>\n",
       "      <th>5</th>\n",
       "      <td>1.456540</td>\n",
       "    </tr>\n",
       "    <tr>\n",
       "      <th>6</th>\n",
       "      <td>1.068259</td>\n",
       "    </tr>\n",
       "    <tr>\n",
       "      <th>7</th>\n",
       "      <td>0.775622</td>\n",
       "    </tr>\n",
       "    <tr>\n",
       "      <th>8</th>\n",
       "      <td>0.727193</td>\n",
       "    </tr>\n",
       "    <tr>\n",
       "      <th rowspan=\"13\" valign=\"top\">Pre_Covid</th>\n",
       "      <th rowspan=\"12\" valign=\"top\">2019</th>\n",
       "      <th>1</th>\n",
       "      <td>0.743821</td>\n",
       "    </tr>\n",
       "    <tr>\n",
       "      <th>2</th>\n",
       "      <td>0.623699</td>\n",
       "    </tr>\n",
       "    <tr>\n",
       "      <th>3</th>\n",
       "      <td>0.629776</td>\n",
       "    </tr>\n",
       "    <tr>\n",
       "      <th>4</th>\n",
       "      <td>0.681042</td>\n",
       "    </tr>\n",
       "    <tr>\n",
       "      <th>5</th>\n",
       "      <td>1.137330</td>\n",
       "    </tr>\n",
       "    <tr>\n",
       "      <th>6</th>\n",
       "      <td>0.768046</td>\n",
       "    </tr>\n",
       "    <tr>\n",
       "      <th>7</th>\n",
       "      <td>0.734019</td>\n",
       "    </tr>\n",
       "    <tr>\n",
       "      <th>8</th>\n",
       "      <td>1.065789</td>\n",
       "    </tr>\n",
       "    <tr>\n",
       "      <th>9</th>\n",
       "      <td>1.673479</td>\n",
       "    </tr>\n",
       "    <tr>\n",
       "      <th>10</th>\n",
       "      <td>0.764020</td>\n",
       "    </tr>\n",
       "    <tr>\n",
       "      <th>11</th>\n",
       "      <td>0.530620</td>\n",
       "    </tr>\n",
       "    <tr>\n",
       "      <th>12</th>\n",
       "      <td>0.560989</td>\n",
       "    </tr>\n",
       "    <tr>\n",
       "      <th>2020</th>\n",
       "      <th>1</th>\n",
       "      <td>0.761276</td>\n",
       "    </tr>\n",
       "  </tbody>\n",
       "</table>\n",
       "</div>"
      ],
      "text/plain": [
       "                            DailyReturn%\n",
       "Period     newDate newDate              \n",
       "Covid      2020    2            1.332447\n",
       "                   3            4.961194\n",
       "                   4            2.980058\n",
       "                   5            2.079035\n",
       "                   6            1.247734\n",
       "                   7            0.947879\n",
       "                   8            0.946091\n",
       "                   9            1.192958\n",
       "                   10           0.961570\n",
       "                   11           0.862852\n",
       "                   12           0.888759\n",
       "           2021    1            1.024376\n",
       "                   2            1.706106\n",
       "                   3            1.254921\n",
       "                   4            1.319929\n",
       "Post_Covid 2021    6            1.433531\n",
       "                   7            0.568059\n",
       "                   8            0.572950\n",
       "                   9            0.605500\n",
       "                   10           0.823025\n",
       "                   11           1.014279\n",
       "                   12           1.067480\n",
       "           2022    1            1.061848\n",
       "                   2            1.780735\n",
       "                   3            1.245771\n",
       "                   4            1.198192\n",
       "                   5            1.456540\n",
       "                   6            1.068259\n",
       "                   7            0.775622\n",
       "                   8            0.727193\n",
       "Pre_Covid  2019    1            0.743821\n",
       "                   2            0.623699\n",
       "                   3            0.629776\n",
       "                   4            0.681042\n",
       "                   5            1.137330\n",
       "                   6            0.768046\n",
       "                   7            0.734019\n",
       "                   8            1.065789\n",
       "                   9            1.673479\n",
       "                   10           0.764020\n",
       "                   11           0.530620\n",
       "                   12           0.560989\n",
       "           2020    1            0.761276"
      ]
     },
     "execution_count": 212,
     "metadata": {},
     "output_type": "execute_result"
    }
   ],
   "source": [
    "#Getting Monthly Volatility\n",
    "import statistics\n",
    "newDF = df.groupby(['Period',df.newDate.dt.year,df.newDate.dt.month])['DailyReturn%'].std()\n",
    "newDF=pd.DataFrame(newDF)\n",
    "newDF\n",
    "#np.array(newDF['DailyReturn%'].loc['Covid'])"
   ]
  },
  {
   "cell_type": "code",
   "execution_count": 215,
   "metadata": {},
   "outputs": [
    {
     "data": {
      "image/png": "[encoded data removed]",
      "text/plain": [
       "<Figure size 432x288 with 1 Axes>"
      ]
     },
     "metadata": {
      "needs_background": "light"
     },
     "output_type": "display_data"
    }
   ],
   "source": [
    "sns.boxplot(data = newDF,y='DailyReturn%',width =0.6,fliersize=4);"
   ]
  },
  {
   "cell_type": "code",
   "execution_count": 214,
   "metadata": {},
   "outputs": [
    {
     "data": {
      "text/html": [
       "<div>\n",
       "<style scoped>\n",
       "    .dataframe tbody tr th:only-of-type {\n",
       "        vertical-align: middle;\n",
       "    }\n",
       "\n",
       "    .dataframe tbody tr th {\n",
       "        vertical-align: top;\n",
       "    }\n",
       "\n",
       "    .dataframe thead th {\n",
       "        text-align: right;\n",
       "    }\n",
       "</style>\n",
       "<table border=\"1\" class=\"dataframe\">\n",
       "  <thead>\n",
       "    <tr style=\"text-align: right;\">\n",
       "      <th></th>\n",
       "      <th>Open</th>\n",
       "      <th>High</th>\n",
       "      <th>Low</th>\n",
       "      <th>Close</th>\n",
       "      <th>Shares Traded</th>\n",
       "      <th>Turnover (Rs. Cr)</th>\n",
       "      <th>DailyReturn%</th>\n",
       "      <th>Liquidity</th>\n",
       "    </tr>\n",
       "  </thead>\n",
       "  <tbody>\n",
       "    <tr>\n",
       "      <th>Open</th>\n",
       "      <td>1.000000</td>\n",
       "      <td>0.999525</td>\n",
       "      <td>0.999394</td>\n",
       "      <td>0.998891</td>\n",
       "      <td>-0.563924</td>\n",
       "      <td>-0.028957</td>\n",
       "      <td>-0.007861</td>\n",
       "      <td>-0.310218</td>\n",
       "    </tr>\n",
       "    <tr>\n",
       "      <th>High</th>\n",
       "      <td>0.999525</td>\n",
       "      <td>1.000000</td>\n",
       "      <td>0.999151</td>\n",
       "      <td>0.999481</td>\n",
       "      <td>-0.558781</td>\n",
       "      <td>-0.021719</td>\n",
       "      <td>0.006844</td>\n",
       "      <td>-0.320518</td>\n",
       "    </tr>\n",
       "    <tr>\n",
       "      <th>Low</th>\n",
       "      <td>0.999394</td>\n",
       "      <td>0.999151</td>\n",
       "      <td>1.000000</td>\n",
       "      <td>0.999455</td>\n",
       "      <td>-0.571907</td>\n",
       "      <td>-0.037951</td>\n",
       "      <td>0.011494</td>\n",
       "      <td>-0.293304</td>\n",
       "    </tr>\n",
       "    <tr>\n",
       "      <th>Close</th>\n",
       "      <td>0.998891</td>\n",
       "      <td>0.999481</td>\n",
       "      <td>0.999455</td>\n",
       "      <td>1.000000</td>\n",
       "      <td>-0.565013</td>\n",
       "      <td>-0.028991</td>\n",
       "      <td>0.027697</td>\n",
       "      <td>-0.305135</td>\n",
       "    </tr>\n",
       "    <tr>\n",
       "      <th>Shares Traded</th>\n",
       "      <td>-0.563924</td>\n",
       "      <td>-0.558781</td>\n",
       "      <td>-0.571907</td>\n",
       "      <td>-0.565013</td>\n",
       "      <td>1.000000</td>\n",
       "      <td>0.627357</td>\n",
       "      <td>-0.038008</td>\n",
       "      <td>0.372107</td>\n",
       "    </tr>\n",
       "    <tr>\n",
       "      <th>Turnover (Rs. Cr)</th>\n",
       "      <td>-0.028957</td>\n",
       "      <td>-0.021719</td>\n",
       "      <td>-0.037951</td>\n",
       "      <td>-0.028991</td>\n",
       "      <td>0.627357</td>\n",
       "      <td>1.000000</td>\n",
       "      <td>0.038486</td>\n",
       "      <td>0.090395</td>\n",
       "    </tr>\n",
       "    <tr>\n",
       "      <th>DailyReturn%</th>\n",
       "      <td>-0.007861</td>\n",
       "      <td>0.006844</td>\n",
       "      <td>0.011494</td>\n",
       "      <td>0.027697</td>\n",
       "      <td>-0.038008</td>\n",
       "      <td>0.038486</td>\n",
       "      <td>1.000000</td>\n",
       "      <td>0.127095</td>\n",
       "    </tr>\n",
       "    <tr>\n",
       "      <th>Liquidity</th>\n",
       "      <td>-0.310218</td>\n",
       "      <td>-0.320518</td>\n",
       "      <td>-0.293304</td>\n",
       "      <td>-0.305135</td>\n",
       "      <td>0.372107</td>\n",
       "      <td>0.090395</td>\n",
       "      <td>0.127095</td>\n",
       "      <td>1.000000</td>\n",
       "    </tr>\n",
       "  </tbody>\n",
       "</table>\n",
       "</div>"
      ],
      "text/plain": [
       "                       Open      High       Low     Close  Shares Traded  \\\n",
       "Open               1.000000  0.999525  0.999394  0.998891      -0.563924   \n",
       "High               0.999525  1.000000  0.999151  0.999481      -0.558781   \n",
       "Low                0.999394  0.999151  1.000000  0.999455      -0.571907   \n",
       "Close              0.998891  0.999481  0.999455  1.000000      -0.565013   \n",
       "Shares Traded     -0.563924 -0.558781 -0.571907 -0.565013       1.000000   \n",
       "Turnover (Rs. Cr) -0.028957 -0.021719 -0.037951 -0.028991       0.627357   \n",
       "DailyReturn%      -0.007861  0.006844  0.011494  0.027697      -0.038008   \n",
       "Liquidity         -0.310218 -0.320518 -0.293304 -0.305135       0.372107   \n",
       "\n",
       "                   Turnover (Rs. Cr)  DailyReturn%  Liquidity  \n",
       "Open                       -0.028957     -0.007861  -0.310218  \n",
       "High                       -0.021719      0.006844  -0.320518  \n",
       "Low                        -0.037951      0.011494  -0.293304  \n",
       "Close                      -0.028991      0.027697  -0.305135  \n",
       "Shares Traded               0.627357     -0.038008   0.372107  \n",
       "Turnover (Rs. Cr)           1.000000      0.038486   0.090395  \n",
       "DailyReturn%                0.038486      1.000000   0.127095  \n",
       "Liquidity                   0.090395      0.127095   1.000000  "
      ]
     },
     "execution_count": 214,
     "metadata": {},
     "output_type": "execute_result"
    }
   ],
   "source": [
    "df.corr()"
   ]
  },
  {
   "cell_type": "code",
   "execution_count": 189,
   "metadata": {},
   "outputs": [
    {
     "data": {
      "text/plain": [
       "<AxesSubplot:>"
      ]
     },
     "execution_count": 189,
     "metadata": {},
     "output_type": "execute_result"
    },
    {
     "data": {
      "image/png": "[encoded data removed]",
      "text/plain": [
       "<Figure size 432x288 with 2 Axes>"
      ]
     },
     "metadata": {
      "needs_background": "light"
     },
     "output_type": "display_data"
    }
   ],
   "source": [
    "sns.heatmap(df.corr(),cbar = True, linewidths = 0.5)"
   ]
  },
  {
   "cell_type": "markdown",
   "metadata": {},
   "source": [
    "# Hypothesis testing (t test and Interpretation)"
   ]
  },
  {
   "cell_type": "markdown",
   "metadata": {},
   "source": [
    "## Compairing dailyReturns% "
   ]
  },
  {
   "cell_type": "markdown",
   "metadata": {},
   "source": [
    "### Pre_Covid v/s Covid"
   ]
  },
  {
   "cell_type": "code",
   "execution_count": 106,
   "metadata": {},
   "outputs": [],
   "source": [
    "# Null Hypothesis - there is no difference between the means of dailyReturns% for Pre_covid and Covid period\n",
    "import scipy.stats as stats\n",
    "_,p_value = stats.ttest_ind(a=df[df['Period']=='Pre_Covid']['DailyReturn%'],b = df[df['Period']=='Covid']['DailyReturn%'],equal_var = False)"
   ]
  },
  {
   "cell_type": "code",
   "execution_count": 107,
   "metadata": {},
   "outputs": [
    {
     "data": {
      "text/plain": [
       "0.7720985240925967"
      ]
     },
     "execution_count": 107,
     "metadata": {},
     "output_type": "execute_result"
    }
   ],
   "source": [
    "p_value #here p>0.1 (>10% error), we cannot reject null hypothesis "
   ]
  },
  {
   "cell_type": "markdown",
   "metadata": {},
   "source": [
    "### Covid v/s Post_Covid"
   ]
  },
  {
   "cell_type": "code",
   "execution_count": 108,
   "metadata": {},
   "outputs": [],
   "source": [
    "# Null Hypothesis - there is no difference between the means of dailyReturns% for Post_Covid and Covid period\n",
    "_,p_value = stats.ttest_ind(a=df[df['Period']=='Covid']['DailyReturn%'],b = df[df['Period']=='Post_Covid']['DailyReturn%'],equal_var = False)"
   ]
  },
  {
   "cell_type": "code",
   "execution_count": 109,
   "metadata": {},
   "outputs": [
    {
     "data": {
      "text/plain": [
       "0.8765324186381679"
      ]
     },
     "execution_count": 109,
     "metadata": {},
     "output_type": "execute_result"
    }
   ],
   "source": [
    "p_value   #here p>0.1 (>10% error), we cannot reject null hypothesis "
   ]
  },
  {
   "cell_type": "markdown",
   "metadata": {},
   "source": [
    "### Post_Covid v/s Pre_Covid"
   ]
  },
  {
   "cell_type": "code",
   "execution_count": 125,
   "metadata": {},
   "outputs": [],
   "source": [
    "# Null Hypothesis - there is no difference between the means of dailyReturns% for Covid and Pre_Covid period\n",
    "_,p_value = stats.ttest_ind(a=df[df['Period']=='Post_Covid']['DailyReturn%'],b = df[df['Period']=='Pre_Covid']['DailyReturn%'],equal_var = False)"
   ]
  },
  {
   "cell_type": "code",
   "execution_count": 126,
   "metadata": {},
   "outputs": [
    {
     "data": {
      "text/plain": [
       "0.8539131706225256"
      ]
     },
     "execution_count": 126,
     "metadata": {},
     "output_type": "execute_result"
    }
   ],
   "source": [
    "p_value   #here p>0.1 (>10% error), we cannot reject null hypothesis "
   ]
  },
  {
   "cell_type": "markdown",
   "metadata": {},
   "source": [
    "## Compairing Liquidity "
   ]
  },
  {
   "cell_type": "markdown",
   "metadata": {},
   "source": [
    "### Pre_Covid v/s Covid"
   ]
  },
  {
   "cell_type": "code",
   "execution_count": 112,
   "metadata": {},
   "outputs": [],
   "source": [
    "# Null Hypothesis - there is no difference between the means of Liquidity for Pre_covid and Covid period\n",
    "_,p_value = stats.ttest_ind(a=df[df['Period']=='Covid']['Liquidity'],b = df[df['Period']=='Pre_Covid']['Liquidity'],equal_var = False)"
   ]
  },
  {
   "cell_type": "code",
   "execution_count": 113,
   "metadata": {},
   "outputs": [
    {
     "data": {
      "text/plain": [
       "0.01084935488426253"
      ]
     },
     "execution_count": 113,
     "metadata": {},
     "output_type": "execute_result"
    }
   ],
   "source": [
    "p_value   #here p<0.1 (<10% error), we reject null hypothesis "
   ]
  },
  {
   "cell_type": "markdown",
   "metadata": {},
   "source": [
    "### Covid v/s Post_Covid"
   ]
  },
  {
   "cell_type": "code",
   "execution_count": 114,
   "metadata": {},
   "outputs": [],
   "source": [
    "# Null Hypothesis - there is no difference between the means of Liquidity for Post_Covid and Covid period\n",
    "_,p_value = stats.ttest_ind(a=df[df['Period']=='Covid']['Liquidity'],b = df[df['Period']=='Post_Covid']['Liquidity'],equal_var = False)"
   ]
  },
  {
   "cell_type": "code",
   "execution_count": 115,
   "metadata": {},
   "outputs": [
    {
     "data": {
      "text/plain": [
       "1.0347525786916424e-28"
      ]
     },
     "execution_count": 115,
     "metadata": {},
     "output_type": "execute_result"
    }
   ],
   "source": [
    "p_value   #here p<0.1 (<10% error), we reject null hypothesis "
   ]
  },
  {
   "cell_type": "markdown",
   "metadata": {},
   "source": [
    "### Pre_Covid v/s Post_Covid"
   ]
  },
  {
   "cell_type": "code",
   "execution_count": 116,
   "metadata": {},
   "outputs": [],
   "source": [
    "# Null Hypothesis - there is no difference between the means of Liquidity for Pre_covid and Post_Covid period\n",
    "_,p_value = stats.ttest_ind(a=df[df['Period']=='Pre_Covid']['Liquidity'],b = df[df['Period']=='Post_Covid']['Liquidity'],equal_var = False)"
   ]
  },
  {
   "cell_type": "code",
   "execution_count": 117,
   "metadata": {},
   "outputs": [
    {
     "data": {
      "text/plain": [
       "7.391994579753427e-38"
      ]
     },
     "execution_count": 117,
     "metadata": {},
     "output_type": "execute_result"
    }
   ],
   "source": [
    "p_value   #here p<0.1 (<10% error), we reject null hypothesis "
   ]
  },
  {
   "cell_type": "markdown",
   "metadata": {},
   "source": [
    "## Compairing Volatility"
   ]
  },
  {
   "cell_type": "markdown",
   "metadata": {},
   "source": [
    "### Pre_Covid v/s Covid"
   ]
  },
  {
   "cell_type": "code",
   "execution_count": 118,
   "metadata": {},
   "outputs": [],
   "source": [
    "# Null Hypothesis - there is no difference between the means of Volatility for Pre_covid and Covid period\n",
    "_,p_value = stats.ttest_ind(a=np.array(newDF['DailyReturn%'].loc['Covid']),b = np.array(newDF['DailyReturn%'].loc['Pre_Covid']),equal_var = False)"
   ]
  },
  {
   "cell_type": "code",
   "execution_count": 119,
   "metadata": {},
   "outputs": [
    {
     "data": {
      "text/plain": [
       "0.01975661267064806"
      ]
     },
     "execution_count": 119,
     "metadata": {},
     "output_type": "execute_result"
    }
   ],
   "source": [
    "p_value    #here p<0.1 (<10% error), we reject null hypothesis "
   ]
  },
  {
   "cell_type": "markdown",
   "metadata": {},
   "source": [
    "### Covid v/s Post_Covid"
   ]
  },
  {
   "cell_type": "code",
   "execution_count": 120,
   "metadata": {},
   "outputs": [],
   "source": [
    "# Null Hypothesis - there is no difference between the means of Volatility for Pre_covid and Covid period\n",
    "_p,p_value = stats.ttest_ind(a=np.array(newDF['DailyReturn%'].loc['Covid']),b = np.array(newDF['DailyReturn%'].loc['Post_Covid']),equal_var = False)"
   ]
  },
  {
   "cell_type": "code",
   "execution_count": 121,
   "metadata": {},
   "outputs": [
    {
     "data": {
      "text/plain": [
       "0.07889179894851903"
      ]
     },
     "execution_count": 121,
     "metadata": {},
     "output_type": "execute_result"
    }
   ],
   "source": [
    "p_value     #here p<0.1 (<10% error), we reject null hypothesis "
   ]
  },
  {
   "cell_type": "markdown",
   "metadata": {},
   "source": [
    "### Pre_Covid v/s Post_Covid"
   ]
  },
  {
   "cell_type": "code",
   "execution_count": 122,
   "metadata": {},
   "outputs": [],
   "source": [
    "# Null Hypothesis - there is no difference between the means of ### Pre_Covid v/s CovidVolatility for Pre_covid and Covid period\n",
    "_,p_value = stats.ttest_ind(a=np.array(newDF['DailyReturn%'].loc['Pre_Covid']),b = np.array(newDF['DailyReturn%'].loc['Post_Covid']),equal_var = False)"
   ]
  },
  {
   "cell_type": "code",
   "execution_count": 123,
   "metadata": {},
   "outputs": [
    {
     "data": {
      "text/plain": [
       "0.115543085552505"
      ]
     },
     "execution_count": 123,
     "metadata": {},
     "output_type": "execute_result"
    }
   ],
   "source": [
    "p_value     #here p>0.1 (>10% error), we cannot reject null hypothesis "
   ]
  },
  {
   "cell_type": "markdown",
   "metadata": {},
   "source": [
    "## Anova Testing"
   ]
  },
  {
   "cell_type": "markdown",
   "metadata": {},
   "source": [
    "### DailyReturn%"
   ]
  },
  {
   "cell_type": "code",
   "execution_count": 193,
   "metadata": {},
   "outputs": [],
   "source": [
    "# Null Hypothesis - there is no difference between the means of DailyReturns% for Pre_Covid, Covid period, Post_Covid Period\n",
    "_,p_value = stats.f_oneway(df[df['Period']=='Pre_Covid']['DailyReturn%'],df[df['Period']=='Covid']['DailyReturn%'],df[df['Period']=='Post_Covid']['DailyReturn%'])"
   ]
  },
  {
   "cell_type": "code",
   "execution_count": 194,
   "metadata": {},
   "outputs": [
    {
     "data": {
      "text/plain": [
       "0.9553487983237647"
      ]
     },
     "execution_count": 194,
     "metadata": {},
     "output_type": "execute_result"
    }
   ],
   "source": [
    "p_value    #here p>0.1 (>10% error), we cannot reject null hypothesis "
   ]
  },
  {
   "cell_type": "markdown",
   "metadata": {},
   "source": [
    "### Liquidity"
   ]
  },
  {
   "cell_type": "code",
   "execution_count": 197,
   "metadata": {},
   "outputs": [],
   "source": [
    "# Null Hypothesis - there is no difference between the means of Liquidity for Pre_Covid, Covid period, Post_Covid Period\n",
    "_,p_value = stats.f_oneway(df[df['Period']=='Pre_Covid']['Liquidity'],df[df['Period']=='Covid']['Liquidity'],df[df['Period']=='Post_Covid']['Liquidity'])"
   ]
  },
  {
   "cell_type": "code",
   "execution_count": 198,
   "metadata": {},
   "outputs": [
    {
     "data": {
      "text/plain": [
       "2.6079432082029862e-43"
      ]
     },
     "execution_count": 198,
     "metadata": {},
     "output_type": "execute_result"
    }
   ],
   "source": [
    "p_value    #here p<0.1 (<10% error), we reject null hypothesis "
   ]
  },
  {
   "cell_type": "markdown",
   "metadata": {},
   "source": [
    "### Volatility"
   ]
  },
  {
   "cell_type": "code",
   "execution_count": 199,
   "metadata": {},
   "outputs": [],
   "source": [
    "# Null Hypothesis - there is no difference between the means of Volatility for Pre_Covid, Covid period, Post_Covid Period\n",
    "_,p_value = stats.f_oneway(np.array(newDF['DailyReturn%'].loc['Covid']),np.array(newDF['DailyReturn%'].loc['Pre_Covid']),np.array(newDF['DailyReturn%'].loc['Post_Covid']))"
   ]
  },
  {
   "cell_type": "code",
   "execution_count": 200,
   "metadata": {},
   "outputs": [
    {
     "data": {
      "text/plain": [
       "0.01719928010272032"
      ]
     },
     "execution_count": 200,
     "metadata": {},
     "output_type": "execute_result"
    }
   ],
   "source": [
    "p_value    #here p<0.1 (<10% error), we reject null hypothesis "
   ]
  },
  {
   "cell_type": "code",
   "execution_count": null,
   "metadata": {},
   "outputs": [],
   "source": []
  }
 ],
 "metadata": {
  "kernelspec": {
   "display_name": "Python 3",
   "language": "python",
   "name": "python3"
  },
  "language_info": {
   "codemirror_mode": {
    "name": "ipython",
    "version": 3
   },
   "file_extension": ".py",
   "mimetype": "text/x-python",
   "name": "python",
   "nbconvert_exporter": "python",
   "pygments_lexer": "ipython3",
   "version": "3.8.5"
  }
 },
 "nbformat": 4,
 "nbformat_minor": 4
}
